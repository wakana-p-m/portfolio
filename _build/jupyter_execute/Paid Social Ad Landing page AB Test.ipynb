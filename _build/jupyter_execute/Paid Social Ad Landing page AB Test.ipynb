{
 "cells": [
  {
   "cell_type": "markdown",
   "id": "1cadb21c",
   "metadata": {},
   "source": [
    "# Paid Social A/B Testing\n",
    "\n",
    "## Summary\n",
    "I have conducted A/B Testing to validate using simplified lead form improve online ad conversion rate. The improvement in the conversion rate had to be big enough to change the company's data capture policy and apply the change to over 30 variations of the landing page.\n",
    "\n",
    "The null hypothesis was there is no difference between the landing page with the simplified lead form and the existing landing page. And the alternative hypothesis was there is a significant difference between two landing pages. The alpha level was set to 0.05, meaning the probability of the test is correctly reject null hypothesis is 95% but I would live with 5% of false positive.\n",
    "\n",
    "I used Python's `statsmodels` library to calculate the sample size, performed two-way Z test (since the sample size is larger than 30). The test resulted 0.001 p-value. Therefore, I rejected null hypothesis and we went ahead and adopted new simplified lead form.\n",
    "\n",
    "\n",
    "## Background\n",
    "- Landing pages are essential elements on online ad campaigns (e.g., Google Search, paid social).\n",
    "- The purpose of landing pages is to communicate the benefits of your products quickly (You got about 5 seconds!) and to capture the contact information about the prospective customers (leads).\n",
    "- Online ads are considered \"successful\" only when the ad campaigns generate leads not just clicking the ads.\n",
    "- There are many ways to improve the landing page performances but here are a few examples:\n",
    "    - Optimize the form (The less field to fill out, the higher changes prospective customers complete the form. But it's a tradeoff of giving up important customer information.)\n",
    "    - Optimize copy to convince the benefits and/or match the ad copy\n",
    "    - Personalize the content on the landing page\n",
    "    - Improve the page load speed\n",
    "\n",
    "\n",
    "## Situation\n",
    "Note: Numbers and some scenarios were altered to protect confidential information.\n",
    "- Our marketing team has over 30 variations of landing page because we run over 1,000 online ads for different products and different audience.\n",
    "- We recognized the lead form is a bit lengthy due to the company's data capture policy.\n",
    "- However, the benefits of getting more qualified leads might surpass the company's data capture policy even though the sales team potentially have to fill out missing information manually, which is a cost too.\n",
    "- Also, making changes to all different landing page costs developers' resources.\n",
    "- So, we decided to perform A/B testing to evaluate the performance of a landing page with a simplified form against existing landing page with a long form.\n",
    "\n",
    "\n",
    "### Current performance\n",
    "- The current conversion rate from the landing page 10%\n",
    "- 5% of leads become customers (5% lead conversion rate)\n",
    "- The average customer lifetime value is 30,000 USD\n",
    "\n",
    "Let's say, we get 1000 clicks from the online ads, we acquire 100 leads, and eventually 5 leads become customers, which generate 150,000 USD profits.\n",
    "\n",
    "We're aiming to improve the landing page conversion rate by 10 points. The potential profit will be 300,000 USD, which is 150,000 USD more than what we are currently generating. After the discussion with stakeholders, additional 150,000 USD profit is reasonable to make the data capture policy. Also, we'll make the changes to all other landing page if the test is successful because the total potential profits generated from over 30 landing pages can easily pay the development cost.\n",
    "\n",
    "\n"
   ]
  },
  {
   "cell_type": "markdown",
   "id": "5c18a6e2",
   "metadata": {},
   "source": [
    "## Technology\n",
    "To perform A/B testing (Two sample Z/T test), the following functions from `statsmodels` were used.\n",
    "- `proportion_effectsize`: Caluclate effect size for a test omparing two propertions. Or, effect size is calculated by taking the difference between two groups and dividing it by the standard devisation of one of the groups.\n",
    "- `statsmodels.stats.power.NormalIndPower.solve_power`: Solve for any one parameter of the power of a two sample **z-test**. (effect size, sample size, alpha, power, and ratio) For this case example, the sample size was calculated using this function.\n",
    "- `statsmodels.stats.power.tt_ind_solve_power`: Solve for any one parameter of the power of a two sample **t-test** Caluclate the sample size for two sample t-test.\n",
    "- `proportions_ztest`, `proportion_confint` from `statsmodels.stats.proportion` module: calculate the p-value and confidence intervals for the z test.\n",
    "- `ttest_ind` from `statsmodels.stats.weightstats` module: calculate the p-values for the t-test.\n"
   ]
  },
  {
   "cell_type": "markdown",
   "id": "e6418123",
   "metadata": {},
   "source": [
    "## Designing experiment\n",
    "\n",
    "### Fomulate hypotheses\n",
    "- Null hypothesis: There is no difference in lead conversion rate between the existing landing page (a long lead form) and the new landing page (a short lead form).\n",
    "- Alternative hypothesis: There is a statistically significant difference between the new and old landing pages.\n",
    "\n",
    "### Variable selection\n",
    "- Dependent variable: user's conversion rate\n",
    "- Independent variable: existing or new landing page (control and treatment)\n",
    "\n",
    "### Methodology\n",
    "- Use Facebook A/B test tool otherwise Facebook will optimize the campaign and we will not get the same ad performance for each ad.\n",
    "    - Create a new campaign on Facebook and create two identical ads. \n",
    "    - One of ads has the current landing page as the ad landing page and another ad has the new landing page as the ad landing page. Other variables are same. (Copy, image, target audience, ad placement, etc.)\n"
   ]
  },
  {
   "cell_type": "markdown",
   "id": "bf4fdeb9",
   "metadata": {},
   "source": [
    "### Sample size\n",
    "The number of sample size affect the test's statistical power (i.e. The probability that test can reject null hypothesis correctly)\n",
    "\n",
    "- **Alpha value (critical value)**: The probability that we are willing to reject the null hpyothesis when it is actually the null hypothesis is correct. i.e. We're willing to live with the 5% of change that we conclude there is a difference even though it isn't. This is a **TYPE 1 ERRO** or **False Positive**\n",
    "    - 1 - Confidence Level\n",
    "    - Usually set to 0.05 or 5% (Convidende level of 95% and alpha of 5%)\n",
    "\n",
    "- **Beta** : The probability that we failed to reject the null hypothesis when the alternative hypothesis is actually true. This is a **TYPE II Error** or **False negative**. \n",
    "    - Typically set to 0.2\n",
    " \n",
    "- **Power**: The probability that test will correctly support the null hypothesis. (1 - β)\n",
    "\n",
    "- **Effect size**: How big of a difference we expect there to be between conversion rates. Effect size is calculated by taking the difference between the two groups (e.g., the mean of treatment group minus the mean of the control group) and dividing it by the standard deviation of one of the groups – This will need to be agreed by various stakeholders. This this case, 5%.\n",
    "\n",
    "```{note}\n",
    "  - < 0.1 = Trivial effect\n",
    "  - 0.1 - 0.3 = small effect\n",
    "  - 0.3 - 0.5 moderate effect\n",
    "  - \\> 0.5 large effect\n",
    " ```"
   ]
  },
  {
   "cell_type": "markdown",
   "id": "c0776769",
   "metadata": {},
   "source": [
    "## A/B testing python codes for a sample dataset"
   ]
  },
  {
   "cell_type": "code",
   "execution_count": 1,
   "id": "f134729e",
   "metadata": {},
   "outputs": [],
   "source": [
    "import pandas as pd\n",
    "import numpy as np\n",
    "import scipy.stats as stats\n",
    "import statsmodels.stats.api as sms\n",
    "import matplotlib as mpl\n",
    "import matplotlib.pyplot as plt\n",
    "import seaborn as sns\n",
    "from math import ceil\n",
    "\n",
    "%matplotlib inline"
   ]
  },
  {
   "cell_type": "markdown",
   "id": "a91c390c",
   "metadata": {},
   "source": [
    "### Calculate the sample size"
   ]
  },
  {
   "cell_type": "code",
   "execution_count": 2,
   "id": "82947b5e",
   "metadata": {},
   "outputs": [
    {
     "data": {
      "text/plain": [
       "0.2837941092083278"
      ]
     },
     "execution_count": 2,
     "metadata": {},
     "output_type": "execute_result"
    }
   ],
   "source": [
    "#Calculate effect size based on expected rates\n",
    "effect_size = sms.proportion_effectsize(0.20, 0.10)\n",
    "effect_size"
   ]
  },
  {
   "cell_type": "code",
   "execution_count": 3,
   "id": "4292f5ae",
   "metadata": {},
   "outputs": [
    {
     "name": "stdout",
     "output_type": "stream",
     "text": [
      " We will need 195 observations for each group.\n"
     ]
    }
   ],
   "source": [
    "#calculate samplesize n\n",
    "required_n = sms.NormalIndPower().solve_power(effect_size, power = 0.8, alpha = 0.05, ratio = 1) #solve for any one parameter of the power of a two sample z-test\n",
    "required_n = ceil(required_n)\n",
    "print(f\" We will need {required_n} observations for each group.\")"
   ]
  },
  {
   "cell_type": "markdown",
   "id": "d14259dc",
   "metadata": {},
   "source": [
    "## Prepare the data\n",
    "I'm using the dammy data. This data set is avaialbe on Kaggle: https://www.kaggle.com/zhangluyuan/ab-testing?select=ab_data.csv"
   ]
  },
  {
   "cell_type": "code",
   "execution_count": 4,
   "id": "e4a4a37f",
   "metadata": {},
   "outputs": [
    {
     "data": {
      "text/html": [
       "<div>\n",
       "<style scoped>\n",
       "    .dataframe tbody tr th:only-of-type {\n",
       "        vertical-align: middle;\n",
       "    }\n",
       "\n",
       "    .dataframe tbody tr th {\n",
       "        vertical-align: top;\n",
       "    }\n",
       "\n",
       "    .dataframe thead th {\n",
       "        text-align: right;\n",
       "    }\n",
       "</style>\n",
       "<table border=\"1\" class=\"dataframe\">\n",
       "  <thead>\n",
       "    <tr style=\"text-align: right;\">\n",
       "      <th></th>\n",
       "      <th>user_id</th>\n",
       "      <th>timestamp</th>\n",
       "      <th>group</th>\n",
       "      <th>landing_page</th>\n",
       "      <th>converted</th>\n",
       "    </tr>\n",
       "  </thead>\n",
       "  <tbody>\n",
       "    <tr>\n",
       "      <th>0</th>\n",
       "      <td>851104</td>\n",
       "      <td>2017-01-21 22:11:48.556739</td>\n",
       "      <td>control</td>\n",
       "      <td>old_page</td>\n",
       "      <td>0</td>\n",
       "    </tr>\n",
       "    <tr>\n",
       "      <th>1</th>\n",
       "      <td>804228</td>\n",
       "      <td>2017-01-12 08:01:45.159739</td>\n",
       "      <td>control</td>\n",
       "      <td>old_page</td>\n",
       "      <td>0</td>\n",
       "    </tr>\n",
       "    <tr>\n",
       "      <th>2</th>\n",
       "      <td>661590</td>\n",
       "      <td>2017-01-11 16:55:06.154213</td>\n",
       "      <td>treatment</td>\n",
       "      <td>new_page</td>\n",
       "      <td>0</td>\n",
       "    </tr>\n",
       "    <tr>\n",
       "      <th>3</th>\n",
       "      <td>853541</td>\n",
       "      <td>2017-01-08 18:28:03.143765</td>\n",
       "      <td>treatment</td>\n",
       "      <td>new_page</td>\n",
       "      <td>0</td>\n",
       "    </tr>\n",
       "    <tr>\n",
       "      <th>4</th>\n",
       "      <td>864975</td>\n",
       "      <td>2017-01-21 01:52:26.210827</td>\n",
       "      <td>control</td>\n",
       "      <td>old_page</td>\n",
       "      <td>1</td>\n",
       "    </tr>\n",
       "  </tbody>\n",
       "</table>\n",
       "</div>"
      ],
      "text/plain": [
       "   user_id                   timestamp      group landing_page  converted\n",
       "0   851104  2017-01-21 22:11:48.556739    control     old_page          0\n",
       "1   804228  2017-01-12 08:01:45.159739    control     old_page          0\n",
       "2   661590  2017-01-11 16:55:06.154213  treatment     new_page          0\n",
       "3   853541  2017-01-08 18:28:03.143765  treatment     new_page          0\n",
       "4   864975  2017-01-21 01:52:26.210827    control     old_page          1"
      ]
     },
     "execution_count": 4,
     "metadata": {},
     "output_type": "execute_result"
    }
   ],
   "source": [
    "filename = \"ab_data.csv\"\n",
    "df = pd.read_csv(filename)\n",
    "df.head()"
   ]
  },
  {
   "cell_type": "code",
   "execution_count": 5,
   "id": "e4e044c6",
   "metadata": {},
   "outputs": [
    {
     "name": "stdout",
     "output_type": "stream",
     "text": [
      "<class 'pandas.core.frame.DataFrame'>\n",
      "RangeIndex: 294478 entries, 0 to 294477\n",
      "Data columns (total 5 columns):\n",
      " #   Column        Non-Null Count   Dtype \n",
      "---  ------        --------------   ----- \n",
      " 0   user_id       294478 non-null  int64 \n",
      " 1   timestamp     294478 non-null  object\n",
      " 2   group         294478 non-null  object\n",
      " 3   landing_page  294478 non-null  object\n",
      " 4   converted     294478 non-null  int64 \n",
      "dtypes: int64(2), object(3)\n",
      "memory usage: 11.2+ MB\n"
     ]
    }
   ],
   "source": [
    "df.info()"
   ]
  },
  {
   "cell_type": "code",
   "execution_count": 6,
   "id": "be0c2903",
   "metadata": {
    "scrolled": true
   },
   "outputs": [
    {
     "data": {
      "text/html": [
       "<div>\n",
       "<style scoped>\n",
       "    .dataframe tbody tr th:only-of-type {\n",
       "        vertical-align: middle;\n",
       "    }\n",
       "\n",
       "    .dataframe tbody tr th {\n",
       "        vertical-align: top;\n",
       "    }\n",
       "\n",
       "    .dataframe thead th {\n",
       "        text-align: right;\n",
       "    }\n",
       "</style>\n",
       "<table border=\"1\" class=\"dataframe\">\n",
       "  <thead>\n",
       "    <tr style=\"text-align: right;\">\n",
       "      <th>landing_page</th>\n",
       "      <th>new_page</th>\n",
       "      <th>old_page</th>\n",
       "    </tr>\n",
       "    <tr>\n",
       "      <th>group</th>\n",
       "      <th></th>\n",
       "      <th></th>\n",
       "    </tr>\n",
       "  </thead>\n",
       "  <tbody>\n",
       "    <tr>\n",
       "      <th>control</th>\n",
       "      <td>1928</td>\n",
       "      <td>145274</td>\n",
       "    </tr>\n",
       "    <tr>\n",
       "      <th>treatment</th>\n",
       "      <td>145311</td>\n",
       "      <td>1965</td>\n",
       "    </tr>\n",
       "  </tbody>\n",
       "</table>\n",
       "</div>"
      ],
      "text/plain": [
       "landing_page  new_page  old_page\n",
       "group                           \n",
       "control           1928    145274\n",
       "treatment       145311      1965"
      ]
     },
     "execution_count": 6,
     "metadata": {},
     "output_type": "execute_result"
    }
   ],
   "source": [
    "pd.crosstab(df[\"group\"], df[\"landing_page\"])"
   ]
  },
  {
   "cell_type": "code",
   "execution_count": 7,
   "id": "8fa4f96d",
   "metadata": {},
   "outputs": [
    {
     "name": "stdout",
     "output_type": "stream",
     "text": [
      "Duplicates: 3894\n"
     ]
    },
    {
     "data": {
      "text/html": [
       "<div>\n",
       "<style scoped>\n",
       "    .dataframe tbody tr th:only-of-type {\n",
       "        vertical-align: middle;\n",
       "    }\n",
       "\n",
       "    .dataframe tbody tr th {\n",
       "        vertical-align: top;\n",
       "    }\n",
       "\n",
       "    .dataframe thead th {\n",
       "        text-align: right;\n",
       "    }\n",
       "</style>\n",
       "<table border=\"1\" class=\"dataframe\">\n",
       "  <thead>\n",
       "    <tr style=\"text-align: right;\">\n",
       "      <th></th>\n",
       "      <th>user_id</th>\n",
       "      <th>timestamp</th>\n",
       "      <th>group</th>\n",
       "      <th>landing_page</th>\n",
       "      <th>converted</th>\n",
       "    </tr>\n",
       "  </thead>\n",
       "  <tbody>\n",
       "    <tr>\n",
       "      <th>0</th>\n",
       "      <td>851104</td>\n",
       "      <td>2017-01-21 22:11:48.556739</td>\n",
       "      <td>control</td>\n",
       "      <td>old_page</td>\n",
       "      <td>0</td>\n",
       "    </tr>\n",
       "    <tr>\n",
       "      <th>1</th>\n",
       "      <td>804228</td>\n",
       "      <td>2017-01-12 08:01:45.159739</td>\n",
       "      <td>control</td>\n",
       "      <td>old_page</td>\n",
       "      <td>0</td>\n",
       "    </tr>\n",
       "    <tr>\n",
       "      <th>2</th>\n",
       "      <td>661590</td>\n",
       "      <td>2017-01-11 16:55:06.154213</td>\n",
       "      <td>treatment</td>\n",
       "      <td>new_page</td>\n",
       "      <td>0</td>\n",
       "    </tr>\n",
       "    <tr>\n",
       "      <th>3</th>\n",
       "      <td>853541</td>\n",
       "      <td>2017-01-08 18:28:03.143765</td>\n",
       "      <td>treatment</td>\n",
       "      <td>new_page</td>\n",
       "      <td>0</td>\n",
       "    </tr>\n",
       "    <tr>\n",
       "      <th>4</th>\n",
       "      <td>864975</td>\n",
       "      <td>2017-01-21 01:52:26.210827</td>\n",
       "      <td>control</td>\n",
       "      <td>old_page</td>\n",
       "      <td>1</td>\n",
       "    </tr>\n",
       "    <tr>\n",
       "      <th>...</th>\n",
       "      <td>...</td>\n",
       "      <td>...</td>\n",
       "      <td>...</td>\n",
       "      <td>...</td>\n",
       "      <td>...</td>\n",
       "    </tr>\n",
       "    <tr>\n",
       "      <th>294473</th>\n",
       "      <td>751197</td>\n",
       "      <td>2017-01-03 22:28:38.630509</td>\n",
       "      <td>control</td>\n",
       "      <td>old_page</td>\n",
       "      <td>0</td>\n",
       "    </tr>\n",
       "    <tr>\n",
       "      <th>294474</th>\n",
       "      <td>945152</td>\n",
       "      <td>2017-01-12 00:51:57.078372</td>\n",
       "      <td>control</td>\n",
       "      <td>old_page</td>\n",
       "      <td>0</td>\n",
       "    </tr>\n",
       "    <tr>\n",
       "      <th>294475</th>\n",
       "      <td>734608</td>\n",
       "      <td>2017-01-22 11:45:03.439544</td>\n",
       "      <td>control</td>\n",
       "      <td>old_page</td>\n",
       "      <td>0</td>\n",
       "    </tr>\n",
       "    <tr>\n",
       "      <th>294476</th>\n",
       "      <td>697314</td>\n",
       "      <td>2017-01-15 01:20:28.957438</td>\n",
       "      <td>control</td>\n",
       "      <td>old_page</td>\n",
       "      <td>0</td>\n",
       "    </tr>\n",
       "    <tr>\n",
       "      <th>294477</th>\n",
       "      <td>715931</td>\n",
       "      <td>2017-01-16 12:40:24.467417</td>\n",
       "      <td>treatment</td>\n",
       "      <td>new_page</td>\n",
       "      <td>0</td>\n",
       "    </tr>\n",
       "  </tbody>\n",
       "</table>\n",
       "<p>286690 rows × 5 columns</p>\n",
       "</div>"
      ],
      "text/plain": [
       "        user_id                   timestamp      group landing_page  converted\n",
       "0        851104  2017-01-21 22:11:48.556739    control     old_page          0\n",
       "1        804228  2017-01-12 08:01:45.159739    control     old_page          0\n",
       "2        661590  2017-01-11 16:55:06.154213  treatment     new_page          0\n",
       "3        853541  2017-01-08 18:28:03.143765  treatment     new_page          0\n",
       "4        864975  2017-01-21 01:52:26.210827    control     old_page          1\n",
       "...         ...                         ...        ...          ...        ...\n",
       "294473   751197  2017-01-03 22:28:38.630509    control     old_page          0\n",
       "294474   945152  2017-01-12 00:51:57.078372    control     old_page          0\n",
       "294475   734608  2017-01-22 11:45:03.439544    control     old_page          0\n",
       "294476   697314  2017-01-15 01:20:28.957438    control     old_page          0\n",
       "294477   715931  2017-01-16 12:40:24.467417  treatment     new_page          0\n",
       "\n",
       "[286690 rows x 5 columns]"
      ]
     },
     "execution_count": 7,
     "metadata": {},
     "output_type": "execute_result"
    }
   ],
   "source": [
    "#Remove the duplicate users\n",
    "\n",
    "session_counts = df['user_id'].value_counts(ascending=False)\n",
    "multi_users = session_counts[session_counts > 1].count()\n",
    "\n",
    "print(f\"Duplicates: {multi_users}\")\n",
    "\n",
    "multi_users = session_counts[session_counts > 1].count()\n",
    "users_to_drop = session_counts[session_counts >1].index\n",
    "df[~df[\"user_id\"].isin(users_to_drop)]"
   ]
  },
  {
   "cell_type": "markdown",
   "id": "dd0c35f3",
   "metadata": {},
   "source": [
    "## Sampling"
   ]
  },
  {
   "cell_type": "code",
   "execution_count": 8,
   "id": "aeaa2a08",
   "metadata": {},
   "outputs": [
    {
     "data": {
      "text/html": [
       "<div>\n",
       "<style scoped>\n",
       "    .dataframe tbody tr th:only-of-type {\n",
       "        vertical-align: middle;\n",
       "    }\n",
       "\n",
       "    .dataframe tbody tr th {\n",
       "        vertical-align: top;\n",
       "    }\n",
       "\n",
       "    .dataframe thead th {\n",
       "        text-align: right;\n",
       "    }\n",
       "</style>\n",
       "<table border=\"1\" class=\"dataframe\">\n",
       "  <thead>\n",
       "    <tr style=\"text-align: right;\">\n",
       "      <th></th>\n",
       "      <th>user_id</th>\n",
       "      <th>timestamp</th>\n",
       "      <th>group</th>\n",
       "      <th>landing_page</th>\n",
       "      <th>converted</th>\n",
       "    </tr>\n",
       "  </thead>\n",
       "  <tbody>\n",
       "    <tr>\n",
       "      <th>254532</th>\n",
       "      <td>644179</td>\n",
       "      <td>2017-01-16 04:15:36.663685</td>\n",
       "      <td>control</td>\n",
       "      <td>old_page</td>\n",
       "      <td>0</td>\n",
       "    </tr>\n",
       "    <tr>\n",
       "      <th>196706</th>\n",
       "      <td>729672</td>\n",
       "      <td>2017-01-20 19:04:10.409185</td>\n",
       "      <td>control</td>\n",
       "      <td>old_page</td>\n",
       "      <td>0</td>\n",
       "    </tr>\n",
       "    <tr>\n",
       "      <th>272726</th>\n",
       "      <td>866186</td>\n",
       "      <td>2017-01-09 02:56:47.675707</td>\n",
       "      <td>control</td>\n",
       "      <td>old_page</td>\n",
       "      <td>0</td>\n",
       "    </tr>\n",
       "    <tr>\n",
       "      <th>118044</th>\n",
       "      <td>884303</td>\n",
       "      <td>2017-01-18 04:49:04.225284</td>\n",
       "      <td>control</td>\n",
       "      <td>old_page</td>\n",
       "      <td>0</td>\n",
       "    </tr>\n",
       "    <tr>\n",
       "      <th>205159</th>\n",
       "      <td>882576</td>\n",
       "      <td>2017-01-15 13:36:49.854723</td>\n",
       "      <td>control</td>\n",
       "      <td>old_page</td>\n",
       "      <td>0</td>\n",
       "    </tr>\n",
       "  </tbody>\n",
       "</table>\n",
       "</div>"
      ],
      "text/plain": [
       "        user_id                   timestamp    group landing_page  converted\n",
       "254532   644179  2017-01-16 04:15:36.663685  control     old_page          0\n",
       "196706   729672  2017-01-20 19:04:10.409185  control     old_page          0\n",
       "272726   866186  2017-01-09 02:56:47.675707  control     old_page          0\n",
       "118044   884303  2017-01-18 04:49:04.225284  control     old_page          0\n",
       "205159   882576  2017-01-15 13:36:49.854723  control     old_page          0"
      ]
     },
     "execution_count": 8,
     "metadata": {},
     "output_type": "execute_result"
    }
   ],
   "source": [
    "control_sample = df[df[\"group\"]==\"control\"].sample(n=required_n, random_state=22)\n",
    "control_sample.head()"
   ]
  },
  {
   "cell_type": "code",
   "execution_count": 9,
   "id": "47452322",
   "metadata": {},
   "outputs": [
    {
     "data": {
      "text/html": [
       "<div>\n",
       "<style scoped>\n",
       "    .dataframe tbody tr th:only-of-type {\n",
       "        vertical-align: middle;\n",
       "    }\n",
       "\n",
       "    .dataframe tbody tr th {\n",
       "        vertical-align: top;\n",
       "    }\n",
       "\n",
       "    .dataframe thead th {\n",
       "        text-align: right;\n",
       "    }\n",
       "</style>\n",
       "<table border=\"1\" class=\"dataframe\">\n",
       "  <thead>\n",
       "    <tr style=\"text-align: right;\">\n",
       "      <th></th>\n",
       "      <th>user_id</th>\n",
       "      <th>timestamp</th>\n",
       "      <th>group</th>\n",
       "      <th>landing_page</th>\n",
       "      <th>converted</th>\n",
       "    </tr>\n",
       "  </thead>\n",
       "  <tbody>\n",
       "    <tr>\n",
       "      <th>155301</th>\n",
       "      <td>634761</td>\n",
       "      <td>2017-01-13 16:48:49.838750</td>\n",
       "      <td>treatment</td>\n",
       "      <td>new_page</td>\n",
       "      <td>0</td>\n",
       "    </tr>\n",
       "    <tr>\n",
       "      <th>175664</th>\n",
       "      <td>867837</td>\n",
       "      <td>2017-01-06 06:08:36.284810</td>\n",
       "      <td>treatment</td>\n",
       "      <td>new_page</td>\n",
       "      <td>0</td>\n",
       "    </tr>\n",
       "    <tr>\n",
       "      <th>286642</th>\n",
       "      <td>750518</td>\n",
       "      <td>2017-01-13 10:27:54.415101</td>\n",
       "      <td>treatment</td>\n",
       "      <td>new_page</td>\n",
       "      <td>0</td>\n",
       "    </tr>\n",
       "    <tr>\n",
       "      <th>230892</th>\n",
       "      <td>657043</td>\n",
       "      <td>2017-01-18 09:49:00.374240</td>\n",
       "      <td>treatment</td>\n",
       "      <td>new_page</td>\n",
       "      <td>0</td>\n",
       "    </tr>\n",
       "    <tr>\n",
       "      <th>96436</th>\n",
       "      <td>678762</td>\n",
       "      <td>2017-01-14 07:50:35.538789</td>\n",
       "      <td>treatment</td>\n",
       "      <td>new_page</td>\n",
       "      <td>0</td>\n",
       "    </tr>\n",
       "  </tbody>\n",
       "</table>\n",
       "</div>"
      ],
      "text/plain": [
       "        user_id                   timestamp      group landing_page  converted\n",
       "155301   634761  2017-01-13 16:48:49.838750  treatment     new_page          0\n",
       "175664   867837  2017-01-06 06:08:36.284810  treatment     new_page          0\n",
       "286642   750518  2017-01-13 10:27:54.415101  treatment     new_page          0\n",
       "230892   657043  2017-01-18 09:49:00.374240  treatment     new_page          0\n",
       "96436    678762  2017-01-14 07:50:35.538789  treatment     new_page          0"
      ]
     },
     "execution_count": 9,
     "metadata": {},
     "output_type": "execute_result"
    }
   ],
   "source": [
    "treatment_sample = df[df[\"group\"]==\"treatment\"].sample(n=required_n, random_state=22)\n",
    "treatment_sample.head()"
   ]
  },
  {
   "cell_type": "code",
   "execution_count": 10,
   "id": "47051e7b",
   "metadata": {},
   "outputs": [
    {
     "data": {
      "text/html": [
       "<div>\n",
       "<style scoped>\n",
       "    .dataframe tbody tr th:only-of-type {\n",
       "        vertical-align: middle;\n",
       "    }\n",
       "\n",
       "    .dataframe tbody tr th {\n",
       "        vertical-align: top;\n",
       "    }\n",
       "\n",
       "    .dataframe thead th {\n",
       "        text-align: right;\n",
       "    }\n",
       "</style>\n",
       "<table border=\"1\" class=\"dataframe\">\n",
       "  <thead>\n",
       "    <tr style=\"text-align: right;\">\n",
       "      <th></th>\n",
       "      <th>user_id</th>\n",
       "      <th>timestamp</th>\n",
       "      <th>group</th>\n",
       "      <th>landing_page</th>\n",
       "      <th>converted</th>\n",
       "    </tr>\n",
       "  </thead>\n",
       "  <tbody>\n",
       "    <tr>\n",
       "      <th>0</th>\n",
       "      <td>644179</td>\n",
       "      <td>2017-01-16 04:15:36.663685</td>\n",
       "      <td>control</td>\n",
       "      <td>old_page</td>\n",
       "      <td>0</td>\n",
       "    </tr>\n",
       "    <tr>\n",
       "      <th>1</th>\n",
       "      <td>729672</td>\n",
       "      <td>2017-01-20 19:04:10.409185</td>\n",
       "      <td>control</td>\n",
       "      <td>old_page</td>\n",
       "      <td>0</td>\n",
       "    </tr>\n",
       "    <tr>\n",
       "      <th>2</th>\n",
       "      <td>866186</td>\n",
       "      <td>2017-01-09 02:56:47.675707</td>\n",
       "      <td>control</td>\n",
       "      <td>old_page</td>\n",
       "      <td>0</td>\n",
       "    </tr>\n",
       "    <tr>\n",
       "      <th>3</th>\n",
       "      <td>884303</td>\n",
       "      <td>2017-01-18 04:49:04.225284</td>\n",
       "      <td>control</td>\n",
       "      <td>old_page</td>\n",
       "      <td>0</td>\n",
       "    </tr>\n",
       "    <tr>\n",
       "      <th>4</th>\n",
       "      <td>882576</td>\n",
       "      <td>2017-01-15 13:36:49.854723</td>\n",
       "      <td>control</td>\n",
       "      <td>old_page</td>\n",
       "      <td>0</td>\n",
       "    </tr>\n",
       "    <tr>\n",
       "      <th>5</th>\n",
       "      <td>922404</td>\n",
       "      <td>2017-01-04 16:28:51.385675</td>\n",
       "      <td>control</td>\n",
       "      <td>old_page</td>\n",
       "      <td>0</td>\n",
       "    </tr>\n",
       "    <tr>\n",
       "      <th>6</th>\n",
       "      <td>797435</td>\n",
       "      <td>2017-01-14 07:44:19.849593</td>\n",
       "      <td>control</td>\n",
       "      <td>old_page</td>\n",
       "      <td>0</td>\n",
       "    </tr>\n",
       "    <tr>\n",
       "      <th>7</th>\n",
       "      <td>806644</td>\n",
       "      <td>2017-01-10 17:43:00.799286</td>\n",
       "      <td>control</td>\n",
       "      <td>old_page</td>\n",
       "      <td>0</td>\n",
       "    </tr>\n",
       "    <tr>\n",
       "      <th>8</th>\n",
       "      <td>654993</td>\n",
       "      <td>2017-01-03 03:58:54.528626</td>\n",
       "      <td>control</td>\n",
       "      <td>old_page</td>\n",
       "      <td>0</td>\n",
       "    </tr>\n",
       "    <tr>\n",
       "      <th>9</th>\n",
       "      <td>929263</td>\n",
       "      <td>2017-01-13 15:33:37.297036</td>\n",
       "      <td>control</td>\n",
       "      <td>old_page</td>\n",
       "      <td>0</td>\n",
       "    </tr>\n",
       "  </tbody>\n",
       "</table>\n",
       "</div>"
      ],
      "text/plain": [
       "   user_id                   timestamp    group landing_page  converted\n",
       "0   644179  2017-01-16 04:15:36.663685  control     old_page          0\n",
       "1   729672  2017-01-20 19:04:10.409185  control     old_page          0\n",
       "2   866186  2017-01-09 02:56:47.675707  control     old_page          0\n",
       "3   884303  2017-01-18 04:49:04.225284  control     old_page          0\n",
       "4   882576  2017-01-15 13:36:49.854723  control     old_page          0\n",
       "5   922404  2017-01-04 16:28:51.385675  control     old_page          0\n",
       "6   797435  2017-01-14 07:44:19.849593  control     old_page          0\n",
       "7   806644  2017-01-10 17:43:00.799286  control     old_page          0\n",
       "8   654993  2017-01-03 03:58:54.528626  control     old_page          0\n",
       "9   929263  2017-01-13 15:33:37.297036  control     old_page          0"
      ]
     },
     "execution_count": 10,
     "metadata": {},
     "output_type": "execute_result"
    }
   ],
   "source": [
    "ab_test = pd.concat([control_sample, treatment_sample], axis=0)\n",
    "\n",
    "#Reset index\n",
    "ab_test.reset_index(drop=True, inplace = True)\n",
    "\n",
    "ab_test.head(10)"
   ]
  },
  {
   "cell_type": "code",
   "execution_count": 11,
   "id": "e2afa153",
   "metadata": {},
   "outputs": [
    {
     "data": {
      "text/plain": [
       "control      195\n",
       "treatment    195\n",
       "Name: group, dtype: int64"
      ]
     },
     "execution_count": 11,
     "metadata": {},
     "output_type": "execute_result"
    }
   ],
   "source": [
    "ab_test[\"group\"].value_counts()"
   ]
  },
  {
   "cell_type": "markdown",
   "id": "aec6581b",
   "metadata": {},
   "source": [
    "### Calculate conversion rate"
   ]
  },
  {
   "cell_type": "code",
   "execution_count": 12,
   "id": "9d5f5a4d",
   "metadata": {},
   "outputs": [],
   "source": [
    "conversion_rates = ab_test.groupby(\"group\")[\"converted\"]\n",
    "\n",
    "#standard_deviation of the proposition\n",
    "std_p = lambda x: np.std(x, ddof=0)\n",
    "\n",
    "#standard_error of the population\n",
    "se_p = lambda x: stats.sem(x, ddof=0)"
   ]
  },
  {
   "cell_type": "code",
   "execution_count": 13,
   "id": "4145e463",
   "metadata": {},
   "outputs": [],
   "source": [
    "conversion_rates = conversion_rates.agg([np.mean, std_p, se_p])\n",
    "conversion_rates.columns = [\"Conversion_rate\", \"std_deviation\", \"standard error\"]"
   ]
  },
  {
   "cell_type": "code",
   "execution_count": 14,
   "id": "c5136b2e",
   "metadata": {},
   "outputs": [
    {
     "data": {
      "text/html": [
       "<style type=\"text/css\">\n",
       "</style>\n",
       "<table id=\"T_1fdee\">\n",
       "  <thead>\n",
       "    <tr>\n",
       "      <th class=\"blank level0\" >&nbsp;</th>\n",
       "      <th id=\"T_1fdee_level0_col0\" class=\"col_heading level0 col0\" >Conversion_rate</th>\n",
       "      <th id=\"T_1fdee_level0_col1\" class=\"col_heading level0 col1\" >std_deviation</th>\n",
       "      <th id=\"T_1fdee_level0_col2\" class=\"col_heading level0 col2\" >standard error</th>\n",
       "    </tr>\n",
       "    <tr>\n",
       "      <th class=\"index_name level0\" >group</th>\n",
       "      <th class=\"blank col0\" >&nbsp;</th>\n",
       "      <th class=\"blank col1\" >&nbsp;</th>\n",
       "      <th class=\"blank col2\" >&nbsp;</th>\n",
       "    </tr>\n",
       "  </thead>\n",
       "  <tbody>\n",
       "    <tr>\n",
       "      <th id=\"T_1fdee_level0_row0\" class=\"row_heading level0 row0\" >control</th>\n",
       "      <td id=\"T_1fdee_row0_col0\" class=\"data row0 col0\" >0.123</td>\n",
       "      <td id=\"T_1fdee_row0_col1\" class=\"data row0 col1\" >0.329</td>\n",
       "      <td id=\"T_1fdee_row0_col2\" class=\"data row0 col2\" >0.024</td>\n",
       "    </tr>\n",
       "    <tr>\n",
       "      <th id=\"T_1fdee_level0_row1\" class=\"row_heading level0 row1\" >treatment</th>\n",
       "      <td id=\"T_1fdee_row1_col0\" class=\"data row1 col0\" >0.087</td>\n",
       "      <td id=\"T_1fdee_row1_col1\" class=\"data row1 col1\" >0.282</td>\n",
       "      <td id=\"T_1fdee_row1_col2\" class=\"data row1 col2\" >0.020</td>\n",
       "    </tr>\n",
       "  </tbody>\n",
       "</table>\n"
      ],
      "text/plain": [
       "<pandas.io.formats.style.Styler at 0x7fb37926b9a0>"
      ]
     },
     "execution_count": 14,
     "metadata": {},
     "output_type": "execute_result"
    }
   ],
   "source": [
    "conversion_rates.style.format('{:.3f}')"
   ]
  },
  {
   "cell_type": "code",
   "execution_count": 15,
   "id": "2dd3104f",
   "metadata": {},
   "outputs": [
    {
     "name": "stderr",
     "output_type": "stream",
     "text": [
      "/var/folders/23/pk6hmsss0pbbzbxmbw44c90c0000gn/T/ipykernel_74318/1455529305.py:2: FutureWarning: \n",
      "\n",
      "The `ci` parameter is deprecated. Use `errorbar=('ci', False)` for the same effect.\n",
      "\n",
      "  sns.barplot(x=ab_test[\"group\"], y=ab_test[\"converted\"], ci=False)\n"
     ]
    },
    {
     "data": {
      "image/png": "[encoded data removed]",
      "text/plain": [
       "<Figure size 800x600 with 1 Axes>"
      ]
     },
     "metadata": {},
     "output_type": "display_data"
    }
   ],
   "source": [
    "plt.figure(figsize = (8,6))\n",
    "sns.barplot(x=ab_test[\"group\"], y=ab_test[\"converted\"], ci=False)\n",
    "\n",
    "plt.ylim(0,0.15)\n",
    "plt.title(\"conversion rate by group\", pad = 20)\n",
    "plt.xlabel(\"Group\", labelpad=15)\n",
    "plt.ylabel(\"Converted (propotion)\", labelpad = 15);"
   ]
  },
  {
   "cell_type": "markdown",
   "id": "df9ce1d0",
   "metadata": {},
   "source": [
    "## Test the hypothesis using two-sample Z-test/T-test\n",
    "\n",
    "- Use Z-statistic when Sample size is >= 30 or \n",
    "    we know the variance of population (which is very are)\n",
    "- Use T-statistic otherwise"
   ]
  },
  {
   "cell_type": "code",
   "execution_count": 16,
   "id": "5c37be87",
   "metadata": {},
   "outputs": [],
   "source": [
    "control_results = ab_test[ab_test[\"group\"]== \"control\"][\"converted\"]\n",
    "treatment_results = ab_test[ab_test[\"group\"]==\"treatment\"][\"converted\"]"
   ]
  },
  {
   "cell_type": "markdown",
   "id": "f7b13f6e",
   "metadata": {},
   "source": [
    "### Z-test (sample size >= 30)"
   ]
  },
  {
   "cell_type": "code",
   "execution_count": 17,
   "id": "6a76fa95",
   "metadata": {},
   "outputs": [
    {
     "name": "stdout",
     "output_type": "stream",
     "text": [
      "z statistic: 1.16\n",
      "p-value: 0.25\n",
      "ci 95% for contril group: [0.077, 0.169]\n",
      "ci 95% for treatment group: [0.048, 0.127]\n"
     ]
    }
   ],
   "source": [
    "#z-test\n",
    "from statsmodels.stats.proportion import proportions_ztest, proportion_confint\n",
    "\n",
    "n_con = control_results.count()\n",
    "n_treat = treatment_results.count()\n",
    "\n",
    "success = [control_results.sum(), treatment_results.sum()]\n",
    "nobs = [n_con, n_treat]\n",
    "\n",
    "z_stat, p_val = proportions_ztest(success, nobs=nobs)\n",
    "(lower_con, lower_treat), (upper_con, upper_treat) = proportion_confint(success, nobs = nobs, alpha = 0.05)\n",
    "\n",
    "print(f\"z statistic: {z_stat:.2f}\")\n",
    "print(f\"p-value: {p_val:.2f}\")\n",
    "print(f\"ci 95% for contril group: [{lower_con:.3f}, {upper_con:.3f}]\")\n",
    "print(f\"ci 95% for treatment group: [{lower_treat:.3f}, {upper_treat:.3f}]\")"
   ]
  },
  {
   "cell_type": "markdown",
   "id": "b66bfe38",
   "metadata": {},
   "source": [
    "### T-test (sample size < 30) "
   ]
  },
  {
   "cell_type": "code",
   "execution_count": 18,
   "id": "3c0dfee7",
   "metadata": {},
   "outputs": [
    {
     "ename": "NameError",
     "evalue": "name 'controll_results' is not defined",
     "output_type": "error",
     "traceback": [
      "\u001b[0;31m---------------------------------------------------------------------------\u001b[0m",
      "\u001b[0;31mNameError\u001b[0m                                 Traceback (most recent call last)",
      "Cell \u001b[0;32mIn[18], line 2\u001b[0m\n\u001b[1;32m      1\u001b[0m \u001b[38;5;28;01mfrom\u001b[39;00m \u001b[38;5;21;01mstatsmodels\u001b[39;00m\u001b[38;5;21;01m.\u001b[39;00m\u001b[38;5;21;01mstats\u001b[39;00m\u001b[38;5;21;01m.\u001b[39;00m\u001b[38;5;21;01mweightstats\u001b[39;00m \u001b[38;5;28;01mimport\u001b[39;00m ttest_ind\n\u001b[0;32m----> 2\u001b[0m t_stat, p_value, degree_of_freedom \u001b[38;5;241m=\u001b[39m ttest_ind(\u001b[43mcontroll_results\u001b[49m, treatment_results)\n\u001b[1;32m      3\u001b[0m \u001b[38;5;28mprint\u001b[39m(\u001b[38;5;124mf\u001b[39m\u001b[38;5;124m\"\u001b[39m\u001b[38;5;124mT-statistic: \u001b[39m\u001b[38;5;132;01m{\u001b[39;00mt_stat\u001b[38;5;132;01m:\u001b[39;00m\u001b[38;5;124m0.2f\u001b[39m\u001b[38;5;132;01m}\u001b[39;00m\u001b[38;5;124m\"\u001b[39m)\n\u001b[1;32m      4\u001b[0m \u001b[38;5;28mprint\u001b[39m(\u001b[38;5;124mf\u001b[39m\u001b[38;5;124m\"\u001b[39m\u001b[38;5;124mp-value: \u001b[39m\u001b[38;5;132;01m{\u001b[39;00mp_value\u001b[38;5;132;01m:\u001b[39;00m\u001b[38;5;124m0.2f\u001b[39m\u001b[38;5;132;01m}\u001b[39;00m\u001b[38;5;124m\"\u001b[39m)\n",
      "\u001b[0;31mNameError\u001b[0m: name 'controll_results' is not defined"
     ]
    }
   ],
   "source": [
    "from statsmodels.stats.weightstats import ttest_ind\n",
    "t_stat, p_value, degree_of_freedom = ttest_ind(controll_results, treatment_results)\n",
    "print(f\"T-statistic: {t_stat:0.2f}\")\n",
    "print(f\"p-value: {p_value:0.2f}\")"
   ]
  },
  {
   "cell_type": "markdown",
   "id": "e0acd66d",
   "metadata": {},
   "source": [
    "## Results"
   ]
  },
  {
   "cell_type": "code",
   "execution_count": 35,
   "id": "aaa989d6",
   "metadata": {},
   "outputs": [
    {
     "name": "stdout",
     "output_type": "stream",
     "text": [
      "Failed to reject the null hypothesis.\n"
     ]
    }
   ],
   "source": [
    "if p_val < 0.05:\n",
    "    print(\"Reject the null hypothesis.\")\n",
    "    \n",
    "else:\n",
    "    print(\"Failed to reject the null hypothesis.\")"
   ]
  },
  {
   "cell_type": "markdown",
   "id": "6f813bee",
   "metadata": {},
   "source": [
    "Since the p-value is larger than the alpha level, we failed to reject the null hypothesis for this sample data set. Therefore, we will not move forward to implementing the changes to the landing page."
   ]
  },
  {
   "cell_type": "markdown",
   "id": "6d3e6e13",
   "metadata": {},
   "source": [
    "## References"
   ]
  },
  {
   "cell_type": "markdown",
   "id": "29b57c8b",
   "metadata": {},
   "source": [
    "- Dallanoce, F. (2021, August 22). ANOVA, T-test and other statistical tests with python. Medium. Retrieved March 21, 2022, from https://towardsdatascience.com/anova-t-test-and-other-statistical-tests-with-python-e7a36a2fdc0c \n",
    "- DiFrancesco, V. (2021, April 10). Understanding alpha, beta, and statistical power. Medium. Retrieved March 21, 2022, from https://towardsdatascience.com/understanding-alpha-beta-and-statistical-power-525b84453687 \n",
    "- Ding, E. (2022, February 7). 7 A/B testing questions and answers in data science interviews. Medium. Retrieved March 21, 2022, from https://towardsdatascience.com/7-a-b-testing-questions-and-answers-in-data-science-interviews-eee6428a8b63#5072 \n",
    "- Fillinich, R. (2021, August 23). AB testing with python. Medium. Retrieved March 21, 2022, from https://towardsdatascience.com/ab-testing-with-python-e5964dd66143 \n",
    "- Hari, K. (2019, November 5). A/B testing clearly explained. Medium. Retrieved March 21, 2022, from https://medium.com/analytics-vidhya/a-b-testing-clearly-explained-56488430156 \n",
    "- Hypothesis testing: Difference between Z-test and T-test. Analytics Vidhya. (2020, December 23). Retrieved March 21, 2022, from https://www.analyticsvidhya.com/blog/2020/06/statistics-analytics-hypothesis-testing-z-test-t-test/ "
   ]
  }
 ],
 "metadata": {
  "kernelspec": {
   "display_name": "Python 3",
   "language": "python",
   "name": "python3"
  },
  "language_info": {
   "codemirror_mode": {
    "name": "ipython",
    "version": 3
   },
   "file_extension": ".py",
   "mimetype": "text/x-python",
   "name": "python",
   "nbconvert_exporter": "python",
   "pygments_lexer": "ipython3",
   "version": "3.10.11"
  }
 },
 "nbformat": 4,
 "nbformat_minor": 5
}