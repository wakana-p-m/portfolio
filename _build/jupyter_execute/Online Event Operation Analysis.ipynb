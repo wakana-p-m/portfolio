{
 "cells": [
  {
   "cell_type": "markdown",
   "metadata": {},
   "source": [
    "# Online Event Optimization 🎟️\n",
    "\n",
    "To improve the resource efficiency, performed A/B testins to make decisions on reducing frequency and changing schedules while maintaining the total number of attendees. I was able to reduce the frequency without reducing the total number of attendees, which resulted in saving over 40% of labor costs.\n",
    "\n",
    "---------------\n",
    "\n",
    "### Background\n",
    "Online events have been one of the most effective lead conversion campaigns, and my team have managed over 150 events (about 2 events per week) since the COVID-19 pandemic started and (March, 2020).  However, running events was extremely labor and resource intensive, and some events required overtime and working on weekends. My company runs one weekday event and 2 weekend events (morning and afternoon sessions).\n",
    "\n",
    "\n",
    "### Objective\n",
    "Change the online event time, day of a week, and/or frequency to eliminate or reduce events conducted outside of the regular business hour and/or weekend operations without negatively affecting the performance.\n",
    "\n",
    "\n",
    "### Measure of Success\n",
    "The success of the event campaigns are measured by the number of RSVPs, # of attendees, and  show rate (# of attendees / RSVP). \n",
    "\n",
    "\n",
    "### Method/Models\n",
    "Performed A/B test (paired T test) to evaluate if the change of event start times, weekend v.s. weekday, and 1 session vs. 2 sessions make a significant difference in the KPIs (the number of RSVPs, # of attendees, and showrate.)\n",
    "\n",
    "\n",
    "### Data Source\n",
    "The raw data was exported from Salesforce using Salesforce Object Query Language (SOQL). Data associated with event objects and prospective student opportunities objects are imported and combined with the primary key, unique user ID. \n",
    "\n",
    "\n",
    "### Resutls\n",
    "- Hosting events on weekday did made a statistically significant improvement in show rate, however there is no significant difference in the RSVP count.\n",
    "- Hosting event on 11AM and 3PM did not make a significant difference in the number of RSVP and showarete.\n",
    "- There is no significant difference in the total number of attendees when hosting 1 session per day and 2 sessions par day. \n",
    "\n",
    "\n",
    "### Business Actions\n",
    "Continued to host online events on weekend because the test proved that having event on weekends generates more attendees. However, we decided to get rid of 3PM session because there was no significant difference in the show rate between 11AM and 3PM and the combined number of attendees from 11AM and 3PM sessions were not significantly different from the total number of attendees when hosting just 1 session par day. Having two options would be convenient for attendees but it ended up splitting attendees into two sessions. \n",
    "\n",
    "\n",
    "### Business Impact\n",
    "Getting rid of 3 PM session enabled the company to cut 40% of labor cost while maintaining the same number of attendees."
   ]
  }
 ],
 "metadata": {
  "kernelspec": {
   "display_name": "Python 3",
   "language": "python",
   "name": "python3"
  },
  "language_info": {
   "codemirror_mode": {
    "name": "ipython",
    "version": 3
   },
   "file_extension": ".py",
   "mimetype": "text/x-python",
   "name": "python",
   "nbconvert_exporter": "python",
   "pygments_lexer": "ipython3",
   "version": "3.10.9"
  },
  "widgets": {
   "application/vnd.jupyter.widget-state+json": {
    "state": {},
    "version_major": 2,
    "version_minor": 0
   }
  }
 },
 "nbformat": 4,
 "nbformat_minor": 4
}