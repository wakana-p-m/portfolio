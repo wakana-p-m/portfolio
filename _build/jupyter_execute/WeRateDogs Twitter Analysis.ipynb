{
 "cells": [
  {
   "cell_type": "markdown",
   "id": "f3b6cb6a",
   "metadata": {},
   "source": [
    "# WeRateDogs Twitter Analysis"
   ]
  },
  {
   "cell_type": "markdown",
   "id": "434e6100",
   "metadata": {},
   "source": [
    "### Introduction\n",
    "In this project, we will analyze a popular Twitter account [@dog_rates](twitter.com/dog_rates), also known as WeRateDogs. WeRateDogs rates people's dogs with a humorous comment about the dog. These ratings almost always have a denominator of 10 and a numerator that greater than 10, such as as11/10, 12/10, 13/10, etc. People love WeRateDogs's tweets because of this fun rating system! \n",
    "\n",
    "Through this analysis, we will find out the relationship between WeRateDog's rating and people's reactions; likes and retweets. Does a higher rating bring more like or retweet? Let's find out!\n",
    "\n",
    "Also, we will find out the popular dog breed by the number of retweets and likes to find out internet users' favorite dog breeds.\n",
    "\n",
    "### Analysis\n",
    "\n",
    "We are going to analyze:\n",
    "1.  Relationship between the ratings and people's response (Retweet and Like)\n",
    "2.  Relationship between the ratings and the god stage\n",
    "3.  Relationship between the ratings and god breeds\n",
    "\n",
    "#### Relationship between the ratings and people's response (Retweet and Like)\n",
    "> The dog rating and the number of retweets and the number of likes have a positive relationship. i.e. the higher the rating is, the more retweets and likes the account gets.\n",
    "\n",
    "> Due to its WeRateDogs's unique rating system, there a few extream ratings that exceed 20/10 such as 1750/10, 420/10 and 75/10. \n",
    "\n",
    "> Interestingly, these extrez\n",
    "mely high ratings do not affect the user's response.  Also, the rating of 13/10 is most likely to get many retweets and likes.  The number of retweets and likes are a positive relationship. The more retweets a tweet gets, the more like the tweet gets, and vise visa.  This makes sense as a tweet is retweeted or liked, there is a higher chance to be seen by many other users. \n",
    "\n",
    "\n",
    "\n",
    "#### Relationship between the ratings and the god stage\n",
    "> Dog stage does not so much affect the rating but dogs in 'puppo' stage get slightly higher ratings\n",
    "\n",
    "#### Relationship between the ratings and god breeds\n",
    ">The most frequently posted dog breeds are Golden retriever, Pembroke, and Labrador retriever. The most highly rated dog breeds by WeRateDogs are Samoyed, Chow, Golden retriever. \n",
    "From these results, we can tell that WeRateDogs have a tendency to post Golden retriever because WeRateDogs personally like Golden retriever. As this twitter account is so popular, I expect WeRateDogs receives a lot of submission from users and WeRateDogs prescreens based on their preference. If you want to be featured on WeRateDogs account, sending Golden retriever's picture might be a good idea.\n",
    "\n",
    "\n",
    ">On the other hand, the most retweeted dog breeds are Labrador retriever, French Bulldog, and Samoyed and the most liked dog breeds are French bulldog, Labrador retriever, and Samoyed. The followers of WeRateDogs like French Bulldogs and Samoyed. If you want your dog picture to be seen by many Twitter users, sending French Bulldog and Samoyed might be a good idea.\n",
    "\n",
    "#### Note\n",
    "I extracted image prediction data with more than 70% of confidence rate to enhance the accuracy of the analysis. Also, I selected the 10 most frequently posted dog breeds for this analysis. \n",
    "\n",
    "\n",
    "```python\n",
    "\n",
    "```"
   ]
  },
  {
   "cell_type": "code",
   "execution_count": null,
   "id": "aff8ba4a",
   "metadata": {},
   "outputs": [],
   "source": []
  }
 ],
 "metadata": {
  "kernelspec": {
   "display_name": "Python 3",
   "language": "python",
   "name": "python3"
  },
  "language_info": {
   "codemirror_mode": {
    "name": "ipython",
    "version": 3
   },
   "file_extension": ".py",
   "mimetype": "text/x-python",
   "name": "python",
   "nbconvert_exporter": "python",
   "pygments_lexer": "ipython3",
   "version": "3.10.11"
  }
 },
 "nbformat": 4,
 "nbformat_minor": 5
}